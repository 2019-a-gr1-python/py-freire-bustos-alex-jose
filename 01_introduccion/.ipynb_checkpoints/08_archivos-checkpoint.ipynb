{
 "cells": [
  {
   "cell_type": "code",
   "execution_count": 12,
   "metadata": {},
   "outputs": [
    {
     "name": "stdout",
     "output_type": "stream",
     "text": [
      "<_io.TextIOWrapper name='./08_archivos.txt' mode='r' encoding='UTF-8'>\n",
      "<class '_io.TextIOWrapper'>\n",
      "['Buenos dias\\n', 'Buenas tardes']\n",
      "<class 'list'>\n",
      "Buenos dias\n",
      "\n",
      "Buenas tardes\n"
     ]
    }
   ],
   "source": [
    "try:\n",
    "    path = './08_archivos.txt'\n",
    "    archivo_abierto = open(path)\n",
    "    print(archivo_abierto)\n",
    "    print(type(archivo_abierto))\n",
    "    \n",
    "    # linea_leida_uno = archivo_abierto.readline()\n",
    "    # print(linea_leida)\n",
    "    # print(type(linea_leida))\n",
    "    \n",
    "    # linea_leida_dos = archivo_abierto.readline()\n",
    "    # print(linea_leida_dos)\n",
    "    # print(type(linea_leida_dos))\n",
    "    \n",
    "    lineas_archivo = archivo_abierto.readlines()\n",
    "    \n",
    "    print(lineas_archivo)\n",
    "    print(type(lineas_archivo))\n",
    "    \n",
    "    for linea in lineas_archivo:\n",
    "        print(linea)\n",
    "    \n",
    "    \n",
    "except:\n",
    "    print('Error leyendo archivo')"
   ]
  },
  {
   "cell_type": "code",
   "execution_count": 13,
   "metadata": {},
   "outputs": [],
   "source": [
    "try:\n",
    "    path = './08_archivos.txt'\n",
    "    archivo_escritura_abierto = open(path,mode='w')\n",
    "except:\n",
    "    print('Error leyendo archivo')"
   ]
  },
  {
   "cell_type": "code",
   "execution_count": null,
   "metadata": {},
   "outputs": [],
   "source": []
  },
  {
   "cell_type": "code",
   "execution_count": null,
   "metadata": {},
   "outputs": [],
   "source": []
  },
  {
   "cell_type": "code",
   "execution_count": null,
   "metadata": {},
   "outputs": [],
   "source": []
  },
  {
   "cell_type": "code",
   "execution_count": null,
   "metadata": {},
   "outputs": [],
   "source": []
  },
  {
   "cell_type": "code",
   "execution_count": null,
   "metadata": {},
   "outputs": [],
   "source": []
  },
  {
   "cell_type": "code",
   "execution_count": null,
   "metadata": {},
   "outputs": [],
   "source": []
  },
  {
   "cell_type": "code",
   "execution_count": null,
   "metadata": {},
   "outputs": [],
   "source": []
  },
  {
   "cell_type": "code",
   "execution_count": null,
   "metadata": {},
   "outputs": [],
   "source": []
  }
 ],
 "metadata": {
  "kernelspec": {
   "display_name": "Python 3",
   "language": "python",
   "name": "python3"
  },
  "language_info": {
   "codemirror_mode": {
    "name": "ipython",
    "version": 3
   },
   "file_extension": ".py",
   "mimetype": "text/x-python",
   "name": "python",
   "nbconvert_exporter": "python",
   "pygments_lexer": "ipython3",
   "version": "3.7.1"
  }
 },
 "nbformat": 4,
 "nbformat_minor": 2
}
