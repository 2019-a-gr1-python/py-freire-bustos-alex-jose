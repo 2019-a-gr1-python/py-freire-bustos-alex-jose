{
 "cells": [
  {
   "cell_type": "code",
   "execution_count": 42,
   "metadata": {},
   "outputs": [],
   "source": [
    "import json\n",
    "import networkx as nx\n",
    "import heapq"
   ]
  },
  {
   "cell_type": "code",
   "execution_count": 9,
   "metadata": {},
   "outputs": [],
   "source": [
    "a=json.load(open('superheroes/sup.json'))"
   ]
  },
  {
   "cell_type": "code",
   "execution_count": 18,
   "metadata": {},
   "outputs": [],
   "source": [
    "g=nx.Graph()\n",
    "for x in a:\n",
    "    for y in a:\n",
    "        if x!=y and len(set(x['teams']).intersection(set(y['teams'])))>0:\n",
    "            g.add_edge(x['name'], y['name'])"
   ]
  },
  {
   "cell_type": "code",
   "execution_count": 24,
   "metadata": {},
   "outputs": [],
   "source": [
    "cc=nx.closeness_centrality(g)"
   ]
  },
  {
   "cell_type": "code",
   "execution_count": 45,
   "metadata": {},
   "outputs": [
    {
     "data": {
      "text/plain": [
       "[(u'Deadpool', 0.39427100096556167),\n",
       " (u'Namor', 0.3814342707015666),\n",
       " (u'Wolverine', 0.3805492723936743),\n",
       " (u'Beast', 0.3652933995582932),\n",
       " (u'Scarlet Witch', 0.3628688858444107),\n",
       " (u'Hawkeye', 0.3581151449818201),\n",
       " (u'Quicksilver', 0.35733493769427804),\n",
       " (u'Nova', 0.356558122612334),\n",
       " (u'Havok', 0.3557846776608972),\n",
       " (u'Spider-Man', 0.3550145809560035)]"
      ]
     },
     "execution_count": 45,
     "metadata": {},
     "output_type": "execute_result"
    }
   ],
   "source": [
    "[(x,cc[x]) for x in heapq.nlargest(10, cc, key=cc.get)]"
   ]
  },
  {
   "cell_type": "code",
   "execution_count": 53,
   "metadata": {},
   "outputs": [],
   "source": [
    "def isMale(name):\n",
    "    return next(x for x in a if x['name']==name)['gender']=='Male'"
   ]
  },
  {
   "cell_type": "code",
   "execution_count": 55,
   "metadata": {},
   "outputs": [
    {
     "data": {
      "text/plain": [
       "[(u'Deadpool', 0.39427100096556167, True),\n",
       " (u'Namor', 0.3814342707015666, True),\n",
       " (u'Wolverine', 0.3805492723936743, True),\n",
       " (u'Beast', 0.3652933995582932, True),\n",
       " (u'Scarlet Witch', 0.3628688858444107, False),\n",
       " (u'Hawkeye', 0.3581151449818201, True),\n",
       " (u'Quicksilver', 0.35733493769427804, True),\n",
       " (u'Nova', 0.356558122612334, True),\n",
       " (u'Havok', 0.3557846776608972, True),\n",
       " (u'Spider-Man', 0.3550145809560035, True)]"
      ]
     },
     "execution_count": 55,
     "metadata": {},
     "output_type": "execute_result"
    }
   ],
   "source": [
    "[(x,cc[x],isMale(x)) for x in heapq.nlargest(10, cc, key=cc.get)]"
   ]
  },
  {
   "cell_type": "code",
   "execution_count": null,
   "metadata": {},
   "outputs": [],
   "source": []
  }
 ],
 "metadata": {
  "kernelspec": {
   "display_name": "Python 3",
   "language": "python",
   "name": "python3"
  },
  "language_info": {
   "codemirror_mode": {
    "name": "ipython",
    "version": 3
   },
   "file_extension": ".py",
   "mimetype": "text/x-python",
   "name": "python",
   "nbconvert_exporter": "python",
   "pygments_lexer": "ipython3",
   "version": "3.7.3"
  }
 },
 "nbformat": 4,
 "nbformat_minor": 2
}
